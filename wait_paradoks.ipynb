{
 "cells": [
  {
   "cell_type": "code",
   "execution_count": 6,
   "metadata": {},
   "outputs": [],
   "source": [
    "import numpy as np\n",
    "import matplotlib.pyplot as plt\n",
    "N = 1000000  # number of buses\n",
    "tau = 10  # average minutes between arrivals\n",
    "\n",
    "rand = np.random.RandomState(42)  # universal random seed\n",
    "bus_arrival_times = N * tau * np.sort(rand.rand(N))"
   ]
  },
  {
   "cell_type": "code",
   "execution_count": 2,
   "metadata": {},
   "outputs": [
    {
     "data": {
      "text/plain": [
       "9.99998796015184"
      ]
     },
     "execution_count": 2,
     "metadata": {},
     "output_type": "execute_result"
    }
   ],
   "source": [
    "intervals = np.diff(bus_arrival_times)\n",
    "intervals.mean()"
   ]
  },
  {
   "cell_type": "markdown",
   "metadata": {},
   "source": [
    "это среднее значение интералов прибытие автобусов"
   ]
  },
  {
   "cell_type": "code",
   "execution_count": 10,
   "metadata": {},
   "outputs": [
    {
     "data": {
      "text/plain": [
       "<matplotlib.collections.PathCollection at 0x7fec4488ffd0>"
      ]
     },
     "execution_count": 10,
     "metadata": {},
     "output_type": "execute_result"
    },
    {
     "data": {
      "image/png": "[encoded data removed]",
      "text/plain": [
       "<Figure size 432x288 with 1 Axes>"
      ]
     },
     "metadata": {},
     "output_type": "display_data"
    }
   ],
   "source": [
    "plt.scatter(bus_arrival_times[:10], np.ones(10))"
   ]
  },
  {
   "cell_type": "markdown",
   "metadata": {},
   "source": [
    "времена прибытий 10 автобусов. Т.к. процесс пуассоновский - т.е. прибытие следующего автобуса никак не связанно с прибытием предыдущего получается что 10 автобусов уложились в ~60  минут, но в среднем по всем 1 млн автобусам интервал будет 10х 1 000 000. Вот ниже пример для 100 автобусов и интервал уже видно, что равен 10х 100. После этой картинки (первой), в принципе, становится понятно почему может быть среднее ожидание 10 мин у пассажира"
   ]
  },
  {
   "cell_type": "code",
   "execution_count": 11,
   "metadata": {},
   "outputs": [
    {
     "data": {
      "text/plain": [
       "<matplotlib.collections.PathCollection at 0x7fec448a4a90>"
      ]
     },
     "execution_count": 11,
     "metadata": {},
     "output_type": "execute_result"
    },
    {
     "data": {
      "image/png": "[encoded data removed]",
      "text/plain": [
       "<Figure size 432x288 with 1 Axes>"
      ]
     },
     "metadata": {},
     "output_type": "display_data"
    }
   ],
   "source": [
    "plt.scatter(bus_arrival_times[:100], np.ones(100))"
   ]
  },
  {
   "cell_type": "markdown",
   "metadata": {},
   "source": [
    "дальше берем 1 000 000 пассажиров и распределяем по времени от 0 до 10х 1 000 000"
   ]
  },
  {
   "cell_type": "code",
   "execution_count": 4,
   "metadata": {},
   "outputs": [],
   "source": [
    "n_passengers=1000000\n",
    "rand = np.random.RandomState(8675309)\n",
    "\n",
    "arrival_times = np.asarray(bus_arrival_times)\n",
    "passenger_times = arrival_times.max() * rand.rand(n_passengers)\n",
    "\n",
    "# find the index of the next bus for each simulated passenger\n",
    "i = np.searchsorted(arrival_times, passenger_times, side='right')\n",
    "\n",
    "wait_time = arrival_times[i] - passenger_times"
   ]
  },
  {
   "cell_type": "markdown",
   "metadata": {},
   "source": [
    "считаем среднее время ожидания"
   ]
  },
  {
   "cell_type": "code",
   "execution_count": 5,
   "metadata": {},
   "outputs": [
    {
     "data": {
      "text/plain": [
       "10.001584206227317"
      ]
     },
     "execution_count": 5,
     "metadata": {},
     "output_type": "execute_result"
    }
   ],
   "source": [
    "wait_time.mean()"
   ]
  },
  {
   "cell_type": "markdown",
   "metadata": {},
   "source": [
    "## теперь если бы автобусы приходили ровно каждые 10 мин"
   ]
  },
  {
   "cell_type": "code",
   "execution_count": 12,
   "metadata": {},
   "outputs": [],
   "source": [
    "rand = np.random.RandomState(42)  # universal random seed\n",
    "bus_arrival_times = np.arange(0,N,tau)"
   ]
  },
  {
   "cell_type": "code",
   "execution_count": 13,
   "metadata": {},
   "outputs": [
    {
     "data": {
      "text/plain": [
       "<matplotlib.collections.PathCollection at 0x7fec44954c50>"
      ]
     },
     "execution_count": 13,
     "metadata": {},
     "output_type": "execute_result"
    },
    {
     "data": {
      "image/png": "[encoded data removed]",
      "text/plain": [
       "<Figure size 432x288 with 1 Axes>"
      ]
     },
     "metadata": {},
     "output_type": "display_data"
    }
   ],
   "source": [
    "plt.scatter(bus_arrival_times[:10], np.ones(10))"
   ]
  },
  {
   "cell_type": "code",
   "execution_count": 14,
   "metadata": {},
   "outputs": [
    {
     "data": {
      "text/plain": [
       "4.997489757072356"
      ]
     },
     "execution_count": 14,
     "metadata": {},
     "output_type": "execute_result"
    }
   ],
   "source": [
    "n_passengers=1000000\n",
    "rand = np.random.RandomState(8675309)\n",
    "\n",
    "arrival_times = np.asarray(bus_arrival_times)\n",
    "passenger_times = arrival_times.max() * rand.rand(n_passengers)\n",
    "\n",
    "# find the index of the next bus for each simulated passenger\n",
    "i = np.searchsorted(arrival_times, passenger_times, side='right')\n",
    "\n",
    "wait_time = arrival_times[i] - passenger_times\n",
    "wait_time.mean()"
   ]
  },
  {
   "cell_type": "markdown",
   "metadata": {},
   "source": [
    "## а теперь если бы мы зашумляли предыдущий пример нормальным шумом со средней 0 и дисперсией 2, а не брали бы равномерное распределение"
   ]
  },
  {
   "cell_type": "code",
   "execution_count": 36,
   "metadata": {},
   "outputs": [],
   "source": [
    "rand = np.random.RandomState(42)  # universal random seed\n",
    "bus_arrival_times = np.arange(0,N*tau,tau)\n",
    "rand_noise = np.random.randn(N)*2\n",
    "bus_arrival_times = bus_arrival_times.astype(np.float64) + rand_noise"
   ]
  },
  {
   "cell_type": "code",
   "execution_count": 37,
   "metadata": {},
   "outputs": [
    {
     "data": {
      "text/plain": [
       "<matplotlib.collections.PathCollection at 0x7fec4bc14630>"
      ]
     },
     "execution_count": 37,
     "metadata": {},
     "output_type": "execute_result"
    },
    {
     "data": {
      "image/png": "[encoded data removed]",
      "text/plain": [
       "<Figure size 432x288 with 1 Axes>"
      ]
     },
     "metadata": {},
     "output_type": "display_data"
    }
   ],
   "source": [
    "plt.scatter(bus_arrival_times[:10], np.ones(10))"
   ]
  },
  {
   "cell_type": "code",
   "execution_count": 38,
   "metadata": {},
   "outputs": [
    {
     "data": {
      "text/plain": [
       "5.400933230078805"
      ]
     },
     "execution_count": 38,
     "metadata": {},
     "output_type": "execute_result"
    }
   ],
   "source": [
    "n_passengers=1000000\n",
    "rand = np.random.RandomState(8675309)\n",
    "\n",
    "arrival_times = np.asarray(bus_arrival_times)\n",
    "passenger_times = arrival_times.max() * rand.rand(n_passengers)\n",
    "\n",
    "# find the index of the next bus for each simulated passenger\n",
    "i = np.searchsorted(arrival_times, passenger_times, side='right')\n",
    "\n",
    "wait_time = arrival_times[i] - passenger_times\n",
    "wait_time.mean()"
   ]
  },
  {
   "cell_type": "markdown",
   "metadata": {},
   "source": [
    "видно что значение далеко от 10 но уже чуть больше 5"
   ]
  },
  {
   "cell_type": "markdown",
   "metadata": {},
   "source": [
    "# короче вопрос времени ожидания это вопрос распределения диапазонов прибытия  "
   ]
  },
  {
   "cell_type": "markdown",
   "metadata": {},
   "source": [
    "посмтроим график распределения прибытий первого случая"
   ]
  },
  {
   "cell_type": "code",
   "execution_count": 40,
   "metadata": {},
   "outputs": [
    {
     "data": {
      "image/png": "[encoded data removed]",
      "text/plain": [
       "<Figure size 432x288 with 1 Axes>"
      ]
     },
     "metadata": {},
     "output_type": "display_data"
    }
   ],
   "source": [
    "_ = plt.hist(intervals,100)"
   ]
  },
  {
   "cell_type": "markdown",
   "metadata": {},
   "source": [
    "видно, что это не нормальное распределение, а как раз ближе к пуассоновскому, а точнее как утверждает автор к бетта распределению.\n",
    "хотя стреднее действительно 10 мин"
   ]
  },
  {
   "cell_type": "markdown",
   "metadata": {},
   "source": [
    "ну и понятно что в последнем случае это будет нормальное распределение"
   ]
  },
  {
   "cell_type": "markdown",
   "metadata": {},
   "source": [
    "# спасибо за внимание "
   ]
  },
  {
   "cell_type": "code",
   "execution_count": null,
   "metadata": {},
   "outputs": [],
   "source": []
  }
 ],
 "metadata": {
  "kernelspec": {
   "display_name": "Python 3",
   "language": "python",
   "name": "python3"
  },
  "language_info": {
   "codemirror_mode": {
    "name": "ipython",
    "version": 3
   },
   "file_extension": ".py",
   "mimetype": "text/x-python",
   "name": "python",
   "nbconvert_exporter": "python",
   "pygments_lexer": "ipython3",
   "version": "3.5.2"
  }
 },
 "nbformat": 4,
 "nbformat_minor": 2
}
